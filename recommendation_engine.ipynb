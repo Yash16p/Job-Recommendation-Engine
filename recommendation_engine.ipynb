{
 "cells": [
  {
   "cell_type": "code",
   "execution_count": 3,
   "metadata": {},
   "outputs": [
    {
     "name": "stdout",
     "output_type": "stream",
     "text": [
      "Top 3 similar roles to Data Scientist: ['Data Analyst', 'AI Researcher', 'ML Engineer']\n"
     ]
    }
   ],
   "source": [
    "import pandas as pd\n",
    "from sklearn.feature_extraction.text import TfidfVectorizer\n",
    "from sklearn.metrics.pairwise import cosine_similarity\n",
    "\n",
    "# Define job roles and their skills\n",
    "data = {\n",
    "    \"Role\": [\n",
    "        \"Data Scientist\", \"ML Engineer\", \"Data Analyst\", \"Data Engineer\", \n",
    "        \"AI Researcher\", \"Business Analyst\", \"NLP Engineer\"\n",
    "    ],\n",
    "    \"Skills\": [\n",
    "        \"Python, Statistics, Machine Learning, Data Visualization\",\n",
    "        \"Python, Machine Learning, Deployment, Algorithms\",\n",
    "        \"SQL, Python, Data Visualization, Excel\",\n",
    "        \"Python, SQL, ETL, Cloud Computing\",\n",
    "        \"Python, Deep Learning, Machine Learning, Algorithms\",\n",
    "        \"Excel, SQL, Data Visualization, Business Intelligence\",\n",
    "        \"Python, NLP, Machine Learning, Deep Learning\"\n",
    "    ]\n",
    "}\n",
    "\n",
    "# Convert to DataFrame\n",
    "df = pd.DataFrame(data)\n",
    "\n",
    "# Convert text skills into vectors using TF-IDF\n",
    "vectorizer = TfidfVectorizer(tokenizer=lambda x: x.split(\", \"))\n",
    "skill_matrix = vectorizer.fit_transform(df[\"Skills\"])\n",
    "\n",
    "# Compute Cosine Similarity\n",
    "cosine_sim = cosine_similarity(skill_matrix)\n",
    "\n",
    "# Function to get top 3 similar roles\n",
    "def recommend_roles(input_role):\n",
    "    idx = df[df[\"Role\"] == input_role].index[0]\n",
    "    sim_scores = list(enumerate(cosine_sim[idx]))\n",
    "    sim_scores = sorted(sim_scores, key=lambda x: x[1], reverse=True)[1:4]\n",
    "    top_roles = [df[\"Role\"][i] for i, _ in sim_scores]\n",
    "    return top_roles\n",
    "\n",
    "# Example usage\n",
    "input_role = \"Data Scientist\"\n",
    "print(f\"Top 3 similar roles to {input_role}: {recommend_roles(input_role)}\")\n",
    "\n"
   ]
  },
  {
   "cell_type": "code",
   "execution_count": null,
   "metadata": {},
   "outputs": [],
   "source": []
  },
  {
   "cell_type": "code",
   "execution_count": null,
   "metadata": {},
   "outputs": [],
   "source": []
  }
 ],
 "metadata": {
  "kernelspec": {
   "display_name": "venv",
   "language": "python",
   "name": "python3"
  },
  "language_info": {
   "codemirror_mode": {
    "name": "ipython",
    "version": 3
   },
   "file_extension": ".py",
   "mimetype": "text/x-python",
   "name": "python",
   "nbconvert_exporter": "python",
   "pygments_lexer": "ipython3",
   "version": "3.11.4"
  }
 },
 "nbformat": 4,
 "nbformat_minor": 2
}
